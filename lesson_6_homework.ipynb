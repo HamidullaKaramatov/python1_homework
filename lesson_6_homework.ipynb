{
 "cells": [
  {
   "cell_type": "markdown",
   "metadata": {},
   "source": [
    "task 1"
   ]
  },
  {
   "cell_type": "markdown",
   "metadata": {},
   "source": [
    "\n",
    "\n",
    "Count Vowels in a String\n",
    "\n",
    "Problem:\n",
    "Count the number of vowels (a, e, i, o, u) in a given string."
   ]
  },
  {
   "cell_type": "code",
   "execution_count": 1,
   "metadata": {},
   "outputs": [
    {
     "name": "stdout",
     "output_type": "stream",
     "text": [
      "Vowels in hello world: 3\n"
     ]
    }
   ],
   "source": [
    "text = \"hello world\"\n",
    "\n",
    "count = 0\n",
    "for char in text:\n",
    "    if char in \"aeuioAEUIO\":\n",
    "        count += 1\n",
    "\n",
    "print(f'Vowels in {text}: {count}')"
   ]
  },
  {
   "cell_type": "markdown",
   "metadata": {},
   "source": [
    "task 2\n",
    "Find the Maximum Number in a List\n",
    "\n",
    "Problem:\n",
    "Find the maximum number in a list using a loop (without using max()).\n"
   ]
  },
  {
   "cell_type": "code",
   "execution_count": 2,
   "metadata": {},
   "outputs": [
    {
     "name": "stdout",
     "output_type": "stream",
     "text": [
      "Max number in a list: 83\n"
     ]
    }
   ],
   "source": [
    "ls = [1,6,83,6,2, -100]\n",
    "\n",
    "max_num = 0\n",
    "for num in ls:\n",
    "    if num>max_num:\n",
    "        max_num = num\n",
    "\n",
    "print(f'Max number in a list: {max_num}')"
   ]
  }
 ],
 "metadata": {
  "kernelspec": {
   "display_name": "Python 3",
   "language": "python",
   "name": "python3"
  },
  "language_info": {
   "codemirror_mode": {
    "name": "ipython",
    "version": 3
   },
   "file_extension": ".py",
   "mimetype": "text/x-python",
   "name": "python",
   "nbconvert_exporter": "python",
   "pygments_lexer": "ipython3",
   "version": "3.13.2"
  }
 },
 "nbformat": 4,
 "nbformat_minor": 2
}
