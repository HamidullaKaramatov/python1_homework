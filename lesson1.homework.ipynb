{
 "cells": [
  {
   "cell_type": "markdown",
   "metadata": {},
   "source": [
    "Lesson 1:homework"
   ]
  },
  {
   "cell_type": "code",
   "execution_count": 5,
   "metadata": {},
   "outputs": [
    {
     "name": "stdout",
     "output_type": "stream",
     "text": [
      "primetri  24 yuzi  36\n"
     ]
    }
   ],
   "source": [
    "#1)Given a side of square. Find its perimeter and area.\n",
    "a= int(input('kvadratni tomoni'))\n",
    "b=4*a\n",
    "c=pow(a,2)\n",
    "print('primetri ',b,'yuzi ',c )"
   ]
  },
  {
   "cell_type": "code",
   "execution_count": 6,
   "metadata": {},
   "outputs": [
    {
     "name": "stdout",
     "output_type": "stream",
     "text": [
      "aylana uzunligi  12.56\n"
     ]
    }
   ],
   "source": [
    "#2)Given diameter of circle. Find its length.\n",
    "a=int(input('diametri'))\n",
    "r=a/2\n",
    "p=3.14\n",
    "l=2*p*r\n",
    "print('aylana uzunligi ', l)"
   ]
  },
  {
   "cell_type": "code",
   "execution_count": 8,
   "metadata": {},
   "outputs": [
    {
     "data": {
      "text/plain": [
       "5.0"
      ]
     },
     "execution_count": 8,
     "metadata": {},
     "output_type": "execute_result"
    }
   ],
   "source": [
    "#3)Given two numbers a and b. Find their mean.\n",
    "a=int(input('1-son'))\n",
    "b=int(input('2-son'))\n",
    "result=(a+b)/2\n",
    "result"
   ]
  },
  {
   "cell_type": "code",
   "execution_count": 11,
   "metadata": {},
   "outputs": [
    {
     "data": {
      "text/plain": [
       "(15, 50, 25, 100)"
      ]
     },
     "execution_count": 11,
     "metadata": {},
     "output_type": "execute_result"
    }
   ],
   "source": [
    "#4)Given two numbers a and b. Find their sum, product and square of each number.\n",
    "a=int(input('1-son'))\n",
    "b=int(input('2-son'))\n",
    "sum=a+b\n",
    "p=a*b\n",
    "s=pow(a,2)\n",
    "d=pow(b,2)\n",
    "sum,p,s,d"
   ]
  }
 ],
 "metadata": {
  "kernelspec": {
   "display_name": "Python 3",
   "language": "python",
   "name": "python3"
  },
  "language_info": {
   "codemirror_mode": {
    "name": "ipython",
    "version": 3
   },
   "file_extension": ".py",
   "mimetype": "text/x-python",
   "name": "python",
   "nbconvert_exporter": "python",
   "pygments_lexer": "ipython3",
   "version": "3.13.2"
  }
 },
 "nbformat": 4,
 "nbformat_minor": 2
}
