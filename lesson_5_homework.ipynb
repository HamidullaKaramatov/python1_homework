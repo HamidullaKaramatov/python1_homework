{
 "cells": [
  {
   "cell_type": "markdown",
   "metadata": {},
   "source": [
    "Task 1"
   ]
  },
  {
   "cell_type": "code",
   "execution_count": 2,
   "metadata": {},
   "outputs": [
    {
     "name": "stdout",
     "output_type": "stream",
     "text": [
      "4 is even\n"
     ]
    }
   ],
   "source": [
    "# 1) CHeck for evenness\n",
    "\n",
    "a = int(input('Enter a number: '))\n",
    "if a%2==0:\n",
    "    print(f'{a} is even')\n",
    "else:\n",
    "    print(f'{a} is odd')"
   ]
  },
  {
   "cell_type": "markdown",
   "metadata": {},
   "source": [
    "task 2"
   ]
  },
  {
   "cell_type": "code",
   "execution_count": 3,
   "metadata": {},
   "outputs": [
    {
     "name": "stdout",
     "output_type": "stream",
     "text": [
      "The largest number is 8\n"
     ]
    }
   ],
   "source": [
    "# 2) Largest of three numbers\n",
    "a = int(input(\"Enter first number: \"))\n",
    "b = int(input(\"Enter second number: \"))\n",
    "c = int(input(\"Enter third number: \"))\n",
    "\n",
    "if a > b and a > c:\n",
    "    print(f'the largest number is {a}')\n",
    "elif b > a and b > c:\n",
    "    print(f'The largest number is {b}')\n",
    "else:\n",
    "    print(f'The largest number is {c}')"
   ]
  },
  {
   "cell_type": "markdown",
   "metadata": {},
   "source": [
    "task 3"
   ]
  },
  {
   "cell_type": "code",
   "execution_count": 5,
   "metadata": {},
   "outputs": [
    {
     "name": "stdout",
     "output_type": "stream",
     "text": [
      "q is consonant\n"
     ]
    }
   ],
   "source": [
    "# 3) vowel or consonant\n",
    "char = input('Enter a character: ').lower()\n",
    "\n",
    "if char in 'aioue':\n",
    "    print(f'{char} is vowel')\n",
    "else:\n",
    "    print(f'{char} is consonant')    "
   ]
  }
 ],
 "metadata": {
  "kernelspec": {
   "display_name": "Python 3",
   "language": "python",
   "name": "python3"
  },
  "language_info": {
   "codemirror_mode": {
    "name": "ipython",
    "version": 3
   },
   "file_extension": ".py",
   "mimetype": "text/x-python",
   "name": "python",
   "nbconvert_exporter": "python",
   "pygments_lexer": "ipython3",
   "version": "3.13.2"
  }
 },
 "nbformat": 4,
 "nbformat_minor": 2
}
